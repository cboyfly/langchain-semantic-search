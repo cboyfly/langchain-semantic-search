{
 "cells": [
  {
   "cell_type": "code",
   "execution_count": null,
   "metadata": {},
   "outputs": [],
   "source": [
    "import pandas as pd\n",
    "from langchain import OpenAI, FAISS, PromptTemplate\n",
    "from langchain.embeddings import OpenAIEmbeddings\n",
    "from langchain.document_loaders import PyPDFLoader\n",
    "from langchain.chains import RetrievalQA\n",
    "from langchain.text_splitter import RecursiveCharacterTextSplitter\n",
    "from langchain.prompts import PromptTemplate\n",
    "from dotenv import load_dotenv\n",
    "import os\n"
   ]
  },
  {
   "cell_type": "code",
   "execution_count": null,
   "metadata": {},
   "outputs": [],
   "source": [
    "os.environ[\"OPENAI_API_KEY\"] = "
   ]
  },
  {
   "cell_type": "code",
   "execution_count": null,
   "metadata": {},
   "outputs": [],
   "source": []
  },
  {
   "cell_type": "markdown",
   "metadata": {},
   "source": [
    "# Load pdfs, create vector stores for multiple file embedding\n",
    "\n",
    "Credit for the pdf_loader and embed_index from https://github.com/insightbuilder/python_de_learners_data/blob/main/code_script_notebooks/projects/LLM_practical_appln/multiFileEmbedFaiss.ipynb\n"
   ]
  },
  {
   "cell_type": "code",
   "execution_count": null,
   "metadata": {},
   "outputs": [],
   "source": []
  },
  {
   "cell_type": "code",
   "execution_count": null,
   "metadata": {},
   "outputs": [],
   "source": [
    "\n",
    "\n",
    "def pdf_loader(file):\n",
    "\n",
    "    loader = PyPDFLoader(file)\n",
    "    pages = loader.load_and_split()\n",
    "\n",
    "    text_splitter = RecursiveCharacterTextSplitter(chunk_size=100, chunk_overlap=10, length_function = len)\n",
    "\n",
    "    doc_list = []\n",
    "    #Pages will be list of pages, so need to modify the loop\n",
    "    for pg in pages:\n",
    "        pg_splits = text_splitter.split_text(pg.page_content)\n",
    "        doc_list.extend(pg_splits)\n",
    "\n",
    "    return doc_list\n",
    "\n",
    "def embed_index(doc_list, embed_fn, index_store):\n",
    "  \"\"\"Function takes in existing vector_store, \n",
    "  new doc_list and embedding function that is \n",
    "  initialized on appropriate model. Local or online. \n",
    "  New embedding is merged with the existing index. If no \n",
    "  index given a new one is created\"\"\"\n",
    "  #check whether the doc_list is documents, or text\n",
    "  try:\n",
    "    faiss_db = FAISS.from_documents(doc_list, \n",
    "                              embed_fn)  \n",
    "  except Exception as e:\n",
    "    faiss_db = FAISS.from_texts(doc_list, \n",
    "                              embed_fn)\n",
    "  \n",
    "  if os.path.exists(index_store):\n",
    "    local_db = FAISS.load_local(index_store,embed_fn)\n",
    "    #merging the new embedding with the existing index store\n",
    "    local_db.merge_from(faiss_db)\n",
    "    print(\"Merge completed\")\n",
    "    local_db.save_local(index_store)\n",
    "    print(\"Updated index saved\")\n",
    "  else:\n",
    "    faiss_db.save_local(folder_path=index_store)\n",
    "    print(\"New store created...\")\n"
   ]
  },
  {
   "cell_type": "markdown",
   "metadata": {},
   "source": [
    "## Create embed index"
   ]
  },
  {
   "cell_type": "code",
   "execution_count": null,
   "metadata": {},
   "outputs": [],
   "source": [
    "# Model embeddings\n",
    "embedding_model = OpenAIEmbeddings()\n"
   ]
  },
  {
   "cell_type": "code",
   "execution_count": null,
   "metadata": {},
   "outputs": [],
   "source": [
    "# Load docs\n",
    "doc_1 = pdf_loader(\"YOUR LINK HERE\")\n",
    "doc_2 = pdf_loader(\"YOUR LINK HERE\")"
   ]
  },
  {
   "cell_type": "code",
   "execution_count": null,
   "metadata": {},
   "outputs": [],
   "source": [
    "embed_index(doc_list= doc_1,\n",
    "            embed_fn= embedding_model,\n",
    "            index_store= 'new_index')"
   ]
  },
  {
   "cell_type": "code",
   "execution_count": null,
   "metadata": {},
   "outputs": [],
   "source": [
    "embed_index(doc_list= doc_2,\n",
    "            embed_fn= embedding_model,\n",
    "            index_store= 'new_index')"
   ]
  },
  {
   "cell_type": "code",
   "execution_count": null,
   "metadata": {},
   "outputs": [],
   "source": [
    "vector_index = FAISS.load_local(\"new_index\", OpenAIEmbeddings())\n",
    "retreiver = vector_index.as_retreiever(search_type = \"similarity\", search_kwargs = {\"k\": 6})"
   ]
  },
  {
   "cell_type": "code",
   "execution_count": null,
   "metadata": {},
   "outputs": [],
   "source": [
    "prompt_template = \"\"\"You are a document comparison assistant. You are tasked with finding discrepancies between documents.\n",
    "\tYou are provided two documents. Identify and list all differences between the document. \n",
    "\n",
    "    Be polite with your responses.\n",
    "    \n",
    "    Context:{context}\n",
    "\n",
    "    QUERY: {question}\n",
    "    \"\"\"\n",
    "prompt = PromptTemplate(template = prompt_template)"
   ]
  },
  {
   "cell_type": "code",
   "execution_count": null,
   "metadata": {},
   "outputs": [],
   "source": [
    "\n",
    "# Specify Retrieval chain inputs\n",
    "model_name = \"gpt-3.5-turbo-instruct\"\n",
    "llm = OpenAI(model = model_name, temperature = 0)\n",
    "\n",
    "qa = RetrievalQA.from_llm(llm = llm, retriever=retreiver, prompt=prompt, return_source_documents = True)"
   ]
  },
  {
   "cell_type": "code",
   "execution_count": null,
   "metadata": {},
   "outputs": [],
   "source": [
    "def ask_question_with_context(qa, question, context):\n",
    "    \"\"\"Function to ask question. In the context field, indicate whether the docs are identical copies for word level differences. Otherwise the comparison is topic level\"\"\"\n",
    "    query = \"A comparison between the two provided docs\"\n",
    "    result = qa({\"question\": question, \"context\": context})\n",
    "    print(\"Answer:\", result[\"answer\"])\n",
    "    context = [(query, result[\"answer\"])]\n",
    "    return context\n",
    "               "
   ]
  }
 ],
 "metadata": {
  "language_info": {
   "name": "python"
  }
 },
 "nbformat": 4,
 "nbformat_minor": 2
}
